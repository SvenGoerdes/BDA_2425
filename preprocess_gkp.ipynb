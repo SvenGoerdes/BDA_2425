version https://git-lfs.github.com/spec/v1
oid sha256:94130e0f23fb35f941cd3a45c5752765d50f142366d6fcb8d01faac2124297be
size 126174760
