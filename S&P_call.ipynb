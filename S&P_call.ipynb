{
 "cells": [
  {
   "cell_type": "code",
   "execution_count": 0,
   "metadata": {
    "application/vnd.databricks.v1+cell": {
     "cellMetadata": {
      "byteLimit": 2048000,
      "rowLimit": 10000
     },
     "inputWidgets": {},
     "nuid": "2b8299cb-9439-46b0-b97f-8c3d73af7638",
     "showTitle": false,
     "tableResultSettingsMap": {},
     "title": ""
    }
   },
   "outputs": [],
   "source": [
    "import pandas as pd\n",
    "import os \n",
    "import requests"
   ]
  },
  {
   "cell_type": "code",
   "execution_count": 0,
   "metadata": {
    "application/vnd.databricks.v1+cell": {
     "cellMetadata": {
      "byteLimit": 2048000,
      "rowLimit": 10000
     },
     "inputWidgets": {},
     "nuid": "4264c699-52c9-4773-87a0-db3ab567463b",
     "showTitle": false,
     "tableResultSettingsMap": {},
     "title": ""
    }
   },
   "outputs": [],
   "source": [
    "# Import alpha_vantage_key.txt and save it as API_KEY\n",
    "with open(\"alpha_vantage_key.txt\", \"r\") as file:\n",
    "    API_KEY = file.read().strip()"
   ]
  },
  {
   "cell_type": "code",
   "execution_count": 0,
   "metadata": {
    "application/vnd.databricks.v1+cell": {
     "cellMetadata": {
      "byteLimit": 2048000,
      "rowLimit": 10000
     },
     "inputWidgets": {},
     "nuid": "f351622f-4758-408b-b1fc-1f12bd523c87",
     "showTitle": false,
     "tableResultSettingsMap": {},
     "title": ""
    }
   },
   "outputs": [],
   "source": [
    "# Base URL for Alpha Vantage\n",
    "BASE_URL = \"https://www.alphavantage.co/query\"\n",
    "\n",
    "# We’ll use the TIME_SERIES_INTRADAY function for hourly data\n",
    "params = {\n",
    "    \"function\": \"TIME_SERIES_INTRADAY\",\n",
    "    \"symbol\": \"SPY\",           # S&P 500 ETF proxy\n",
    "    \"interval\": \"60min\",       # could also be 1min, 5min, 15min, 30min, 60min\n",
    "    \"outputsize\": \"compact\",   # 'compact' returns the last 100 data points, 'full' returns entire available history\n",
    "    \"apikey\": API_KEY\n",
    "}\n",
    "\n",
    "response = requests.get(BASE_URL, params=params)\n",
    "data = response.json()\n",
    "\n",
    "# data will contain a dict with metadata and time series. \n",
    "# The keys typically look like:\n",
    "# \"Meta Data\" and \"Time Series (60min)\" (depending on the interval).\n",
    "# Example of how to parse out the time series:\n",
    "time_series_key = \"Time Series (60min)\"\n",
    "if time_series_key in data:\n",
    "    ts_data = data[time_series_key]\n",
    "    for timestamp, values in ts_data.items():\n",
    "        open_price = values[\"1. open\"]\n",
    "        high_price = values[\"2. high\"]\n",
    "        low_price  = values[\"3. low\"]\n",
    "        close_price = values[\"4. close\"]\n",
    "        volume = values[\"5. volume\"]\n",
    "        print(f\"{timestamp} | O:{open_price} H:{high_price} L:{low_price} C:{close_price} V:{volume}\")\n",
    "else:\n",
    "    print(\"Error: No time series data found. Check the response or parameters.\")\n"
   ]
  },
  {
   "cell_type": "code",
   "execution_count": 0,
   "metadata": {
    "application/vnd.databricks.v1+cell": {
     "cellMetadata": {
      "byteLimit": 2048000,
      "rowLimit": 10000
     },
     "inputWidgets": {},
     "nuid": "b5aee81b-124b-413f-a16e-9f8d8abdbf45",
     "showTitle": false,
     "tableResultSettingsMap": {},
     "title": ""
    }
   },
   "outputs": [],
   "source": [
    "# Build a list of dicts\n",
    "records = []\n",
    "for timestamp, metrics in data['Time Series (60min)'].items():\n",
    "    record = {\n",
    "        \"timestamp\": timestamp,\n",
    "        \"open\": float(metrics[\"1. open\"]),\n",
    "        \"high\": float(metrics[\"2. high\"]),\n",
    "        \"low\": float(metrics[\"3. low\"]),\n",
    "        \"close\": float(metrics[\"4. close\"]),\n",
    "        \"volume\": int(metrics[\"5. volume\"])\n",
    "    }\n",
    "    records.append(record)\n",
    "\n",
    "# Create a DataFrame\n",
    "df = pd.DataFrame(records)\n",
    "# Optionally, convert timestamp to a Pandas datetime\n",
    "df['timestamp'] = pd.to_datetime(df['timestamp'])\n",
    "\n",
    "df.head()"
   ]
  },
  {
   "cell_type": "code",
   "execution_count": 0,
   "metadata": {
    "application/vnd.databricks.v1+cell": {
     "cellMetadata": {
      "byteLimit": 2048000,
      "rowLimit": 10000
     },
     "inputWidgets": {},
     "nuid": "932cee58-68ce-48f8-95a2-676fed276b36",
     "showTitle": false,
     "tableResultSettingsMap": {},
     "title": ""
    }
   },
   "outputs": [],
   "source": [
    "df.shape"
   ]
  },
  {
   "cell_type": "code",
   "execution_count": 0,
   "metadata": {
    "application/vnd.databricks.v1+cell": {
     "cellMetadata": {
      "byteLimit": 2048000,
      "rowLimit": 10000
     },
     "inputWidgets": {},
     "nuid": "1d501c7e-0534-492d-8d39-b00066a43cc5",
     "showTitle": false,
     "tableResultSettingsMap": {},
     "title": ""
    }
   },
   "outputs": [],
   "source": [
    "data['Meta Data']\n",
    "data['Time Series (60min)']"
   ]
  },
  {
   "cell_type": "code",
   "execution_count": 0,
   "metadata": {
    "application/vnd.databricks.v1+cell": {
     "cellMetadata": {},
     "inputWidgets": {},
     "nuid": "46bd2ef3-505c-4b91-9873-352020e689e4",
     "showTitle": false,
     "tableResultSettingsMap": {},
     "title": ""
    }
   },
   "outputs": [],
   "source": []
  }
 ],
 "metadata": {
  "application/vnd.databricks.v1+notebook": {
   "computePreferences": null,
   "dashboards": [],
   "environmentMetadata": {
    "base_environment": "",
    "environment_version": "2"
   },
   "inputWidgetPreferences": null,
   "language": "python",
   "notebookMetadata": {
    "pythonIndentUnit": 4
   },
   "notebookName": "S&P_call",
   "widgets": {}
  },
  "language_info": {
   "name": "python"
  }
 },
 "nbformat": 4,
 "nbformat_minor": 0
}
