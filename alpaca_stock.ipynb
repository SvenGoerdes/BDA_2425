{
 "cells": [
  {
   "cell_type": "code",
   "execution_count": 2,
   "id": "c1b7dad7",
   "metadata": {},
   "outputs": [],
   "source": [
    "from alpaca.data.historical import StockHistoricalDataClient\n",
    "from alpaca.data.requests import StockBarsRequest\n",
    "from alpaca.data.timeframe import TimeFrame, TimeFrameUnit\n",
    "from datetime import datetime\n",
    "\n",
    "# Wrap your API credentials in quotes\n",
    "api_key = \"PKY96P1SK8M1NUKCCYSC\"\n",
    "secret_key = \"Uf15nvt1cNm61OVbKudbnmwqhW155pr3PtdaB4gR\"\n",
    "\n",
    "client = StockHistoricalDataClient(api_key, secret_key)\n",
    "\n",
    "request_params = StockBarsRequest(\n",
    "    symbol_or_symbols=[\"SPY\"],  # Note: use \"SPY\" instead of \"^GSPC\" with Alpaca\n",
    "    timeframe = TimeFrame(15, TimeFrameUnit.Minute),\n",
    "    start=datetime(2024, 5, 8),\n",
    "    end=datetime(2025, 5, 8)\n",
    ")\n",
    "\n",
    "bars = client.get_stock_bars(request_params)\n",
    "df = bars.df\n",
    "df.to_csv(\"spy_1year.csv\")"
   ]
  }
 ],
 "metadata": {
  "kernelspec": {
   "display_name": "base",
   "language": "python",
   "name": "python3"
  },
  "language_info": {
   "codemirror_mode": {
    "name": "ipython",
    "version": 3
   },
   "file_extension": ".py",
   "mimetype": "text/x-python",
   "name": "python",
   "nbconvert_exporter": "python",
   "pygments_lexer": "ipython3",
   "version": "3.12.4"
  }
 },
 "nbformat": 4,
 "nbformat_minor": 5
}
