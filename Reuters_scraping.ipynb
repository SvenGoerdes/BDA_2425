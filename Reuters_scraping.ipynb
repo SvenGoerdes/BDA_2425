{
 "cells": [
  {
   "cell_type": "code",
   "execution_count": 3,
   "metadata": {},
   "outputs": [],
   "source": [
    "from bs4 import BeautifulSoup\n",
    "import requests\n",
    "from selenium import webdriver\n",
    "import random\n",
    "import time\n",
    "import undetected_chromedriver as uc\n",
    "from fake_useragent import UserAgent\n",
    "from selenium.webdriver.common.by import By\n",
    "from selenium.webdriver.support.ui import WebDriverWait\n",
    "from selenium.webdriver.support import expected_conditions as EC\n",
    "import pandas as pd\n"
   ]
  },
  {
   "cell_type": "code",
   "execution_count": null,
   "metadata": {},
   "outputs": [
    {
     "name": "stdout",
     "output_type": "stream",
     "text": [
      "{'https://www.reuters.com/world/us/trump-plans-executive-order-targeting-ticket-scalping-according-document-2025-03-31/', 'https://www.reuters.com/world/us/ntsb-investigate-close-call-between-delta-plane-air-force-jets-2025-03-31/', 'https://www.reuters.com/world/us/us-agency-leading-musks-firing-spree-hire-new-driver-emails-show-2025-03-31/', 'https://www.reuters.com/world/us/change-course-us-justice-dept-drops-challenge-georgia-voting-law-2025-03-31/', 'https://www.reuters.com/world/us/us-reviewing-federal-contracts-grants-harvard-over-antisemitism-allegations-2025-03-31/', 'https://www.reuters.com/world/us/us-supreme-court-hear-catholic-groups-bid-wisconsin-unemployment-tax-exemption-2025-03-31/', 'https://www.reuters.com/world/us/democratic-senators-urge-trump-revamp-china-trade-ties-revise-free-trade-deals-2025-03-31/', 'https://www.reuters.com/world/us/musk-gives-away-two-1-million-checks-wisconsin-voters-high-profile-judicial-race-2025-03-31/', 'https://www.reuters.com/world/us/retired-star-richard-sherman-says-his-house-was-robbed-by-armed-intruders-2025-03-31/', 'https://www.reuters.com/world/us/can-donald-trump-serve-third-term-us-president-2025-03-31/', 'https://www.reuters.com/world/us/all-donald-trumps-tariff-threats-2025-01-28/'}\n",
      "Total number of articles: 11\n"
     ]
    }
   ],
   "source": [
    "#Using ScraperAPI\n",
    "payload = { 'api_key': '714ebc3e377d0996d657d9c45de9a426', 'url': 'https://www.reuters.com/world/us/' }\n",
    "r = requests.get('https://api.scraperapi.com/', params=payload)\n",
    "\n",
    "soup = BeautifulSoup(r.text, \"html.parser\")\n",
    "\n",
    "article_links = set()\n",
    "\n",
    "# Find all political article links \n",
    "for a in soup.find_all(\"a\", href=True):\n",
    "    href = a[\"href\"]\n",
    "    if any(word in href for word in [\"/world/us/\", \"/business/\", \"/markets/\", \"/technology/\", \"/finance/\", \"/sustainability/\"]) and href.count(\"/\") > 3:\n",
    "        article_links.add(\"https://www.reuters.com\" + href)\n",
    "\n",
    "print(article_links)\n",
    "print(f\"Total number of articles: {len(article_links)}\")\n"
   ]
  },
  {
   "cell_type": "code",
   "execution_count": null,
   "metadata": {},
   "outputs": [
    {
     "data": {
      "text/plain": [
       "'\\n# Use Selenium to load the page and get the HTML content\\ndriver = webdriver.Chrome() \\ndriver.get(\"https://www.reuters.com/world/us/\")\\ntime.sleep(3)  \\n\\n\\nsoup = BeautifulSoup(driver.page_source, \"html.parser\")\\n\\narticle_links = set()\\n\\n# Find all political article links \\nfor a in soup.find_all(\"a\", href=True):\\n    href = a[\"href\"]\\n    if ((\"/legal/\" in href and href.count(\"/\") > 2) or (\"/world/us/\" in href and href.count(\"/\"))):\\n        article_links.add(\"https://www.reuters.com\" + href)\\n        print(href)\\n\\nprint(article_links)\\n'"
      ]
     },
     "execution_count": 5,
     "metadata": {},
     "output_type": "execute_result"
    }
   ],
   "source": [
    "\n",
    "\"\"\"\n",
    "# Use Selenium to load the page and get the HTML content\n",
    "driver = webdriver.Chrome() \n",
    "driver.get(\"https://www.reuters.com/world/us/\")\n",
    "time.sleep(3)  \n",
    "\n",
    "\n",
    "soup = BeautifulSoup(driver.page_source, \"html.parser\")\n",
    "\n",
    "article_links = set()\n",
    "\n",
    "# Find all political article links \n",
    "for a in soup.find_all(\"a\", href=True):\n",
    "    href = a[\"href\"]\n",
    "     (\"/legal/\" in href and not any(x in href for x in ['/government/', '/transactional/', '/litigation/', '/us-supreme-court/', '/legalindustry/'])) or (\"/world/us/\" in href and href.count(\"/\") > 3)\n",
    "        article_links.add(\"https://www.reuters.com\" + href)\n",
    "        print(href)\n",
    "\n",
    "print(article_links)\n",
    "\"\"\""
   ]
  },
  {
   "cell_type": "code",
   "execution_count": null,
   "metadata": {},
   "outputs": [
    {
     "ename": "SyntaxError",
     "evalue": "unterminated string literal (detected at line 25) (2372789278.py, line 25)",
     "output_type": "error",
     "traceback": [
      "\u001b[1;36m  Cell \u001b[1;32mIn[6], line 25\u001b[1;36m\u001b[0m\n\u001b[1;33m    \"\"\"\"\u001b[0m\n\u001b[1;37m       ^\u001b[0m\n\u001b[1;31mSyntaxError\u001b[0m\u001b[1;31m:\u001b[0m unterminated string literal (detected at line 25)\n"
     ]
    }
   ],
   "source": [
    "\"\"\"\"\n",
    "# Grab articles using UserAgent\n",
    "ua = UserAgent()\n",
    "options = uc.ChromeOptions()\n",
    "options.add_argument(f\"user-agent={ua.random}\")\n",
    "driver = uc.Chrome(options=options)\n",
    "\n",
    "\n",
    "for a in article_links:\n",
    "    try:\n",
    "        driver.get(a)\n",
    "        WebDriverWait(driver, 10).until(\n",
    "            EC.presence_of_element_located((By.CSS_SELECTOR, '[data-testid=\"Heading\"]'))\n",
    "        )\n",
    "        soup = BeautifulSoup(driver.page_source, \"html.parser\")\n",
    "        title_tag = soup.find(\"span\", attrs={\"data-testid\": \"Heading\"})\n",
    "        title = title_tag.text.strip() if title_tag else \"No title\"\n",
    "    except Exception as e:\n",
    "        print(f\"⚠️ Failed to scrape {a}: {e}\")\n",
    "        title = \"Blocked or failed\"\n",
    "    \n",
    "    # ✅ Print the title\n",
    "    print(f\"Title: {title}\")\n",
    "    time.sleep(random.uniform(5, 15))\"\"\n",
    "    \"\"\"\n"
   ]
  },
  {
   "cell_type": "markdown",
   "metadata": {},
   "source": [
    "Titles:\n",
    "Business: h1,  \"Heading\"\n",
    "\n",
    "Text:\n",
    "Business: div, paragraph-X"
   ]
  },
  {
   "cell_type": "code",
   "execution_count": 17,
   "metadata": {},
   "outputs": [
    {
     "name": "stdout",
     "output_type": "stream",
     "text": [
      "Scraped 11 articles.\n"
     ]
    }
   ],
   "source": [
    "# Read in content from articles linked from the main page\n",
    "data = [] \n",
    "for a in article_links:\n",
    "    try:\n",
    "        # Use ScraperAPI to scrape the article\n",
    "        article_payload = {\n",
    "            'api_key': '714ebc3e377d0996d657d9c45de9a426',\n",
    "            'url': a\n",
    "        }\n",
    "        response = requests.get('https://api.scraperapi.com/', params=article_payload)\n",
    "        soup = BeautifulSoup(response.text, \"html.parser\")\n",
    "\n",
    "        # Extract the title and text from the article page\n",
    "        title_tag = soup.find(\"span\", attrs={\"data-testid\": \"Heading\"}) if (\"/legal/\") in a else soup.find(\"h1\", attrs={\"data-testid\": \"Heading\"})\n",
    "        title = title_tag.text.strip() if title_tag else None\n",
    "        paragraphs = soup.find_all(\"div\", attrs={\"data-testid\": lambda x: x and x.startswith(\"paragraph-\")})\n",
    "        text = \"\\n\".join(p.get_text(strip=True) for p in paragraphs)\n",
    "        \n",
    "        # Add the data to the list if title and text are found\n",
    "        if title and text:\n",
    "            data.append({\"Title\": title, \"Text\": text, \"url\": a}) \n",
    "    \n",
    "    #Show if scrape fails\n",
    "    except Exception as e:\n",
    "        print(f\"⚠️ Failed to scrape {a}: {e}\")\n",
    "\n",
    "#Save to CSV    \n",
    "df = pd.DataFrame(data)\n",
    "#df.to_csv(\"reuters_articles_v2.csv\", index=False)\n",
    "\n",
    "print(f\"Scraped {len(data)} articles.\")\n",
    "\n",
    "    \n",
    "    "
   ]
  }
 ],
 "metadata": {
  "kernelspec": {
   "display_name": "base",
   "language": "python",
   "name": "python3"
  },
  "language_info": {
   "codemirror_mode": {
    "name": "ipython",
    "version": 3
   },
   "file_extension": ".py",
   "mimetype": "text/x-python",
   "name": "python",
   "nbconvert_exporter": "python",
   "pygments_lexer": "ipython3",
   "version": "3.12.4"
  }
 },
 "nbformat": 4,
 "nbformat_minor": 2
}
