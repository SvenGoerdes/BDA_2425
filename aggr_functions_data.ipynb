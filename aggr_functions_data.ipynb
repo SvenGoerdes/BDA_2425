{
 "cells": [
  {
   "cell_type": "code",
   "execution_count": null,
   "id": "2f96c8ef",
   "metadata": {},
   "outputs": [],
   "source": [
    "def aggregate_news_daily(news_df: ):\n",
    "        \"\"\"\n",
    "        This function aggregates the news data by date and section name.\n",
    "        It counts the number of articles published for each section on each date.\n",
    "        :param news_df: DataFrame containing news data with columns 'pub_date', 'section_name', and 'news_desk'.\n",
    "\n",
    "        :return: DataFrame with columns 'date', 'section_name', and 'num_mentioned' representing the count of articles.\n",
    "        \n",
    "        \"\"\"\n",
    "    \n",
    "    news_df.createOrReplaceTempView(\"news_table\")\n",
    "\n",
    "    # query to retrieve the data\n",
    "    sql_query = \"\"\"\n",
    "        WITH news_date_format as(\n",
    "            SELECT \n",
    "                date(pub_date) as date,\n",
    "                section_name,\n",
    "                news_desk\n",
    "            FROM news_table)\n",
    "\n",
    "        SELECT \n",
    "            date,\n",
    "            section_name,\n",
    "            count(*) as num_mentioned\n",
    "        FROM news_date_format\n",
    "            GROUP BY date, section_name        \n",
    "    \"\"\"\n",
    "\n",
    "    # query \n",
    "    aggr_df = spark.sql(sql_query)\n",
    "\n",
    "    return aggr_df"
   ]
  }
 ],
 "metadata": {
  "language_info": {
   "name": "python"
  }
 },
 "nbformat": 4,
 "nbformat_minor": 5
}
